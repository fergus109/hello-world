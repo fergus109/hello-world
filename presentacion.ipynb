{
 "cells": [
  {
   "cell_type": "markdown",
   "metadata": {},
   "source": [
    "<img style=\"float: right; margin: 0px 0px 15px 15px;\" src=\"https://scontent.fgdl5-1.fna.fbcdn.net/v/t31.0-8/16251773_129794304195275_7572449121957512883_o.jpg?_nc_cat=0&oh=e6916f96c290dbaf8c15af0d364c426c&oe=5B95DA75\" width=\"300px\" height=\"100px\" />\n",
    "# Presentacion \n",
    "## <font color= blue>Fernando Guzman</font>\n",
    "- 20 años \n",
    "- estudiante ing Nanotecnología\n",
    "- Gusto de la fotografía, el cine, la ciencia,  el debate, y viajar. \n",
    "\n",
    "___"
   ]
  },
  {
   "cell_type": "markdown",
   "metadata": {},
   "source": [
    "<img style=\"float: right; margin: 0px 0px 15px 15px;\" src=\"https://scontent.fgdl5-1.fna.fbcdn.net/v/t31.0-8/20615846_249814368859934_6825551076290459725_o.jpg?_nc_cat=0&oh=9eb29d58cec1264355292b3c208f435a&oe=5B8AAB51\" width=\"300px\" height=\"100px\" />\n",
    "# Un poco de mi trabajo fotográfico\n",
    "<img style=\"float: right; margin: 0px 0px 15px 15px;\" src=\"https://scontent.fgdl5-1.fna.fbcdn.net/v/t31.0-8/18814699_215793628928675_5043432518999250981_o.jpg?_nc_cat=0&oh=26e3a5c93d2e65b6c07873d0e45ed156&oe=5B822BF8\" width=\"300px\" height=\"100px\" />\n",
    "\n",
    "<img style=\"float: right; margin: 0px 0px 15px 15px;\" src=\"https://scontent.fgdl5-1.fna.fbcdn.net/v/t31.0-8/18620565_212687979239240_5771022116014439703_o.jpg?_nc_cat=0&oh=67c6219915686aab8d4d3b0f488452da&oe=5B8AA9A2\" width=\"300px\" height=\"100px\" />\n",
    "<img style=\"float: right; margin: 0px 0px 15px 15px;\" src=\"https://scontent.fgdl5-1.fna.fbcdn.net/v/t31.0-8/18156161_199306607244044_7217028997866894690_o.jpg?_nc_cat=0&oh=aa0589da08cae6798503cbda4966d912&oe=5BC269EE\" width=\"300px\" height=\"100px\" />\n",
    "<img style=\"float: right; margin: 0px 0px 15px 15px;\" src=\"https://scontent.fgdl5-1.fna.fbcdn.net/v/t31.0-8/16178377_129802540861118_3521371139772856984_o.jpg?_nc_cat=0&oh=cd10c6ff08dda54cdceaedc9c88d0512&oe=5B949476\" width=\"300px\" height=\"100px\" />\n",
    "<img style=\"float: right; margin: 0px 0px 15px 15px;\" src=\"https://scontent.fgdl5-1.fna.fbcdn.net/v/t31.0-8/21122388_258490401325664_6261890053679201442_o.jpg?_nc_cat=0&oh=08ade317be7b44be12756429847509a7&oe=5B7B5E1C\" width=\"290px\" height=\"90px\" />\n",
    "<img style=\"float: right; margin: 0px 0px 15px 15px;\" src=\"https://scontent.fgdl5-1.fna.fbcdn.net/v/t31.0-8/18192360_201147687059936_2241967991671789047_o.jpg?_nc_cat=0&oh=f0e90e6519f4d5089b81ca0bdfba6ecd&oe=5B8049ED\" width=\"290px\" height=\"90px\" />"
   ]
  },
  {
   "cell_type": "markdown",
   "metadata": {},
   "source": [
    "## <font color= brown> Mis comidas favoritas: </font>\n",
    "- puré de papa \n",
    "- sushi \n",
    "- papa al horno \n",
    "- pasta \n",
    "- vino \n",
    "- zanahorias "
   ]
  },
  {
   "cell_type": "markdown",
   "metadata": {},
   "source": [
    "### Participacion en AIESEC Mexico \n",
    "> Voluntario en una organización mundial de jóvenes que permite los intercambios culturales a través de todo el mundo.\n",
    "Yo colaboro en el area de intercambios entrantes, lo que me ha permitido conocer personas de todo el mundo, y vivir puntos de encuentro con muchas culturas. \n",
    "<img style=\"float: right; margin: 0px 0px 15px 15px;\" src=\"https://instagram.fgdl5-1.fna.fbcdn.net/vp/2bc5108aeaa23bf0f75e400ff7cefc21/5B853843/t51.2885-15/e35/30602837_1243517259113151_2721143832518328320_n.jpg?_nc_eui2=AeFqcOxNJ_OU8alU2P4sK4DhFkUn76pzo-UrK87gYyZUPA9q16BkDYIER_hdyw7xDKccMf_gTLOmEk90ZWyKestX2oaNobmOkrSD0PIlE2Vipg\" width=\"290px\" height=\"90px\" />"
   ]
  },
  {
   "cell_type": "code",
   "execution_count": null,
   "metadata": {},
   "outputs": [],
   "source": []
  },
  {
   "cell_type": "code",
   "execution_count": null,
   "metadata": {},
   "outputs": [],
   "source": []
  }
 ],
 "metadata": {
  "kernelspec": {
   "display_name": "Python 3",
   "language": "python",
   "name": "python3"
  },
  "language_info": {
   "codemirror_mode": {
    "name": "ipython",
    "version": 3
   },
   "file_extension": ".py",
   "mimetype": "text/x-python",
   "name": "python",
   "nbconvert_exporter": "python",
   "pygments_lexer": "ipython3",
   "version": "3.6.4"
  }
 },
 "nbformat": 4,
 "nbformat_minor": 2
}
