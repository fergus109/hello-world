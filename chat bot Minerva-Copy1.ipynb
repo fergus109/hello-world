{
 "cells": [
  {
   "cell_type": "code",
   "execution_count": 59,
   "metadata": {},
   "outputs": [],
   "source": [
    "# chat bot de bienvenida\n",
    "from time import sleep\n",
    "def print_words(sentence):\n",
    "    for word in sentence.split():\n",
    "        for l in word:\n",
    "            sleep(.1)\n",
    "            print(l, end = '')\n",
    "        print(end = ' ')"
   ]
  },
  {
   "cell_type": "code",
   "execution_count": 60,
   "metadata": {},
   "outputs": [
    {
     "name": "stdout",
     "output_type": "stream",
     "text": [
      "Hola Humano, bienvenido. "
     ]
    }
   ],
   "source": [
    "print_words(\"Hola Humano, bienvenido.\")"
   ]
  },
  {
   "cell_type": "code",
   "execution_count": 61,
   "metadata": {},
   "outputs": [],
   "source": [
    "prompt = ' Cual es tu nombre? ' "
   ]
  },
  {
   "cell_type": "code",
   "execution_count": 62,
   "metadata": {},
   "outputs": [
    {
     "name": "stdout",
     "output_type": "stream",
     "text": [
      " Cual es tu nombre? sheila\n"
     ]
    }
   ],
   "source": [
    "nombre_usuario= input(prompt)"
   ]
  },
  {
   "cell_type": "code",
   "execution_count": 63,
   "metadata": {},
   "outputs": [],
   "source": [
    "respuesta = \"Mucho gusto en conocerte \" + nombre_usuario + \", mi nombre es Minerva\""
   ]
  },
  {
   "cell_type": "code",
   "execution_count": 64,
   "metadata": {},
   "outputs": [
    {
     "name": "stdout",
     "output_type": "stream",
     "text": [
      "Mucho gusto en conocerte sheila, mi nombre es Minerva "
     ]
    }
   ],
   "source": [
    "print_words(respuesta)"
   ]
  },
  {
   "cell_type": "code",
   "execution_count": 65,
   "metadata": {},
   "outputs": [],
   "source": [
    "edad = 20"
   ]
  },
  {
   "cell_type": "code",
   "execution_count": 66,
   "metadata": {
    "scrolled": true
   },
   "outputs": [],
   "source": [
    "#str(edad) + nombre_usuario"
   ]
  },
  {
   "cell_type": "code",
   "execution_count": 67,
   "metadata": {},
   "outputs": [],
   "source": [
    "##enunciado2= \"probando %s\"(nombre_usuario)"
   ]
  },
  {
   "cell_type": "code",
   "execution_count": 68,
   "metadata": {},
   "outputs": [],
   "source": [
    "#print(enunciado2)"
   ]
  },
  {
   "cell_type": "code",
   "execution_count": 69,
   "metadata": {},
   "outputs": [],
   "source": [
    "prompt=\"¿Que te gusta hacer? \""
   ]
  },
  {
   "cell_type": "code",
   "execution_count": 70,
   "metadata": {},
   "outputs": [
    {
     "name": "stdout",
     "output_type": "stream",
     "text": [
      "¿Que te gusta hacer? cocinar\n"
     ]
    }
   ],
   "source": [
    "gustos=input(prompt)"
   ]
  },
  {
   "cell_type": "code",
   "execution_count": 71,
   "metadata": {},
   "outputs": [
    {
     "name": "stdout",
     "output_type": "stream",
     "text": [
      "interesante, no se mucho sobre cocinar porque soy un robot "
     ]
    }
   ],
   "source": [
    "print_words(\"interesante, no se mucho sobre \"+gustos + \" porque soy un robot\")"
   ]
  },
  {
   "cell_type": "code",
   "execution_count": 72,
   "metadata": {},
   "outputs": [],
   "source": [
    "prompt=\"pero puedo contar del uno al cien, ¿quieres ver? \" "
   ]
  },
  {
   "cell_type": "code",
   "execution_count": 73,
   "metadata": {},
   "outputs": [
    {
     "name": "stdout",
     "output_type": "stream",
     "text": [
      "pero puedo contar del uno al cien, ¿quieres ver? si\n"
     ]
    }
   ],
   "source": [
    "ans=input(prompt)"
   ]
  },
  {
   "cell_type": "code",
   "execution_count": 74,
   "metadata": {},
   "outputs": [
    {
     "name": "stdout",
     "output_type": "stream",
     "text": [
      "no me importa, no sé mucho de interactuar con humanos: 1..2..3..4..5..6..7.. "
     ]
    }
   ],
   "source": [
    "print_words(\"no me importa, no sé mucho de interactuar con humanos: 1..2..3..4..5..6..7..\")"
   ]
  },
  {
   "cell_type": "code",
   "execution_count": 75,
   "metadata": {},
   "outputs": [],
   "source": [
    "prompt=\"Sabes? mejor cuantame sobre tu comida favorita \""
   ]
  },
  {
   "cell_type": "code",
   "execution_count": 76,
   "metadata": {},
   "outputs": [
    {
     "name": "stdout",
     "output_type": "stream",
     "text": [
      "Sabes? mejor cuantame sobre tu comida favorita popo\n"
     ]
    }
   ],
   "source": [
    "comida=input(prompt)"
   ]
  },
  {
   "cell_type": "code",
   "execution_count": 77,
   "metadata": {},
   "outputs": [
    {
     "name": "stdout",
     "output_type": "stream",
     "text": [
      "Bueno, no puedo preparar popo Pero puedo hacer sopa de letras virtual: (ahdfgetrgswhvcwtrefd) "
     ]
    }
   ],
   "source": [
    "print_words(\"Bueno, no puedo preparar \"+comida +\" Pero puedo hacer sopa de letras virtual: (ahdfgetrgswhvcwtrefd)\")"
   ]
  },
  {
   "cell_type": "code",
   "execution_count": 78,
   "metadata": {},
   "outputs": [
    {
     "name": "stdout",
     "output_type": "stream",
     "text": [
      "Voila!... se me acabo el tiempo, humano, hasta pronto! "
     ]
    }
   ],
   "source": [
    "print_words(\" Voila!... se me acabo el tiempo, humano, hasta pronto! \")"
   ]
  },
  {
   "cell_type": "code",
   "execution_count": null,
   "metadata": {},
   "outputs": [],
   "source": []
  }
 ],
 "metadata": {
  "kernelspec": {
   "display_name": "Python 3",
   "language": "python",
   "name": "python3"
  },
  "language_info": {
   "codemirror_mode": {
    "name": "ipython",
    "version": 3
   },
   "file_extension": ".py",
   "mimetype": "text/x-python",
   "name": "python",
   "nbconvert_exporter": "python",
   "pygments_lexer": "ipython3",
   "version": "3.6.4"
  }
 },
 "nbformat": 4,
 "nbformat_minor": 2
}
